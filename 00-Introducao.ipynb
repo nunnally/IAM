{
 "cells": [
  {
   "cell_type": "markdown",
   "metadata": {},
   "source": [
    "# Antes de começar\n",
    "\n",
    "Neste curso, vamos usar o Python 3 e algumas bibliotecas científicas. Todas as aulas serão disponibilizadas no formato `.html`, para os slides, e `.ipynb`, para os notebooks Juddpyter. Para simplificar, faça a instalação da distribuição [Anaconda](https://www.anaconda.com/download/) no seu computador, que contém tudo que precisamos."
   ]
  }
 ],
 "metadata": {
  "kernelspec": {
   "display_name": "Python 3",
   "language": "python",
   "name": "python3"
  },
  "language_info": {
   "codemirror_mode": {
    "name": "ipython",
    "version": 3
   },
   "file_extension": ".py",
   "mimetype": "text/x-python",
   "name": "python",
   "nbconvert_exporter": "python",
   "pygments_lexer": "ipython3",
   "version": "3.7.1"
  }
 },
 "nbformat": 4,
 "nbformat_minor": 2
}
