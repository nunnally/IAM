{
 "cells": [
  {
   "cell_type": "markdown",
   "metadata": {},
   "source": [
    "# Antes de começar\n",
    "\n",
    "\n",
    "### Não continuamos esta aula. Utilizar a dada na SEADM\n",
    "\n",
    "Neste curso, vamos usar o Python 3 e algumas bibliotecas científicas. Todas as aulas serão disponibilizadas no formato `.html`, para os slides, e `.ipynb`, para os notebooks Juddpyter. Para simplificar, faça a instalação da distribuição [Anaconda](https://www.anaconda.com/download/) no seu computador, que contém tudo que precisamos.\n",
    "\n",
    "Aprender Jupyter é muito simples. Basta a leitura rápida de um tutorial, como [este](https://www.datacamp.com/community/tutorials/tutorial-jupyter-notebook), [este](https://www.dataquest.io/blog/jupyter-notebook-tutorial/), ou [este](http://maxmelnick.com/2016/04/19/python-beginner-tips-and-tricks.html). Os atalhos para comandos são muito úteis!"
   ]
  },
  {
   "cell_type": "markdown",
   "metadata": {},
   "source": [
    "# Python Básico\n",
    "\n",
    "## Indentação\n",
    "Muitas linguagens usam chaves para delimitar blocos de código. Python usa identação."
   ]
  },
  {
   "cell_type": "code",
   "execution_count": null,
   "metadata": {},
   "outputs": [],
   "source": [
    "for i in [1, 2, 3, 4, 5]:               \n",
    "    print(i)                             # primeira linha do bloco \"for i\"\n",
    "    for j in [1, 2, 3, 4, 5]:            # primeira linha do bloco \"for j\"\n",
    "        print(j)                         # última linha do bloco \"for j\"\n",
    "        print(i + j)\n",
    "    print(i)                             # última linha do bloco \"for i\"\n",
    "print(\"terminou o loop\")"
   ]
  },
  {
   "cell_type": "markdown",
   "metadata": {},
   "source": [
    "Isso torna o código Python muito legível, mas também significa que você precisa ter muito cuidado com sua formatação.\n",
    "\n",
    "O espaço em branco é ignorado dentro de parênteses e colchetes, o que pode ser útil para cálculos longos:"
   ]
  },
  {
   "cell_type": "code",
   "execution_count": 3,
   "metadata": {},
   "outputs": [],
   "source": [
    "long_winded_computation = (1 + 2 + 3 + 4 + 5 + 6 + 7 + 8 + 9 + 10 + 11 + 12 +\n",
    "13 + 14 + 15 + 16 + 17 + 18 + 19 + 20)"
   ]
  },
  {
   "cell_type": "markdown",
   "metadata": {},
   "source": [
    "e para tornar o código fácil de ler:"
   ]
  },
  {
   "cell_type": "code",
   "execution_count": 4,
   "metadata": {},
   "outputs": [],
   "source": [
    "list_of_lists = [[1, 2, 3], [4, 5, 6], [7, 8, 9]]\n",
    "easier_to_read_list_of_lists = [ [1, 2, 3],\n",
    "                                 [4, 5, 6],\n",
    "                                 [7, 8, 9] ]"
   ]
  },
  {
   "cell_type": "markdown",
   "metadata": {},
   "source": [
    "Você também pode usar uma barra invertida para indicar que uma declaração continua na próxima linha. Não se assuste se ver esse tipo de declaração, não é nenhuma operação matemática.\n",
    "**Raramente fazemos este tipo de coisa**"
   ]
  },
  {
   "cell_type": "code",
   "execution_count": 5,
   "metadata": {},
   "outputs": [],
   "source": [
    "two_plus_three = 2 + \\\n",
    "3"
   ]
  },
  {
   "cell_type": "markdown",
   "metadata": {},
   "source": [
    "## Módulos\n",
    "\n",
    "Certos recursos do Python não são carregados por padrão. Estes incluem os recursos padrão da linguagem e também recursos implementados por terceiros que você fez o download. Para usar esses recursos, você precisa importar os módulos que os contêm.\n",
    "\n",
    "Uma abordagem é simplesmente importar o próprio módulo:"
   ]
  },
  {
   "cell_type": "code",
   "execution_count": 7,
   "metadata": {},
   "outputs": [
    {
     "name": "stdout",
     "output_type": "stream",
     "text": [
      "1253\n"
     ]
    }
   ],
   "source": [
    "import re\n",
    "my_regex = re.compile(\"[0-9]+\", re.I)\n",
    "\n",
    "result = my_regex.search(\"Distância percorrida: 1253 metros.\")\n",
    "print(result.group(0))"
   ]
  },
  {
   "cell_type": "markdown",
   "metadata": {},
   "source": [
    "## Aritmética"
   ]
  },
  {
   "cell_type": "markdown",
   "metadata": {},
   "source": []
  }
 ],
 "metadata": {
  "kernelspec": {
   "display_name": "Python 3",
   "language": "python",
   "name": "python3"
  },
  "language_info": {
   "codemirror_mode": {
    "name": "ipython",
    "version": 3
   },
   "file_extension": ".py",
   "mimetype": "text/x-python",
   "name": "python",
   "nbconvert_exporter": "python",
   "pygments_lexer": "ipython3",
   "version": "3.7.1"
  }
 },
 "nbformat": 4,
 "nbformat_minor": 2
}
