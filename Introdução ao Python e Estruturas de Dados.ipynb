{
 "cells": [
  {
   "cell_type": "markdown",
   "metadata": {
    "colab_type": "text",
    "id": "KaJaPmRHPAFZ"
   },
   "source": [
    "# Introdução ao Python e suas funções\n",
    "\n",
    "Este curso será dado em Python. Se você já possui conhecimento da linguagem, vá direto para os exercícios.\n",
    "\n",
    "Este curso é ministrado dentro do Jupyter Notebook. Para atalhos e truques, confira no link [https://towardsdatascience.com/optimizing-jupyter-notebook-tips-tricks-and-nbextensions-26d75d502663](https://towardsdatascience.com/optimizing-jupyter-notebook-tips-tricks-and-nbextensions-26d75d502663)\n",
    "\n",
    "\n",
    "Este *notebook* não possui tantas explicações. Todo conteúdo será dado em aula.\n",
    "\n",
    "\n",
    "\n",
    "* Tipos de dados\n",
    "    * Numbers\n",
    "    * Strings\n",
    "    * Listas\n",
    "    * Dicionários\n",
    "    * Booleanos\n",
    "    * Tuplas\n",
    "    * Sets\n",
    "* Operadores de comparação\n",
    "* if,elif, else\n",
    "* for Loops\n",
    "* while Loops\n",
    "* range()\n",
    "* list comprehension\n",
    "* funções\n",
    "* expressões lamda\n",
    "* map e filter\n",
    "* métodos\n",
    "\n",
    "<center><img src=\"https://parquestec.tk/sl/unb/cursos/2019/workshop-python/images/nerds.jpg\" width=\"480px\"></center>\n",
    "\n",
    "\n",
    "Este material é livre de direitos autorais, sinta-se a vontade para utilizar de quaisquer formas.\n"
   ]
  },
  {
   "cell_type": "markdown",
   "metadata": {
    "colab_type": "text",
    "id": "gCZymcslPAFf"
   },
   "source": [
    "## Tipos de dados\n",
    "\n",
    "Texto sobre os tipos de dados\n"
   ]
  },
  {
   "cell_type": "code",
   "execution_count": 1,
   "metadata": {
    "colab": {
     "base_uri": "https://localhost:8080/",
     "height": 34
    },
    "colab_type": "code",
    "id": "9QFUZ1ZwPAFk",
    "outputId": "c3d4bd4a-572c-4875-d023-f4629011b402"
   },
   "outputs": [
    {
     "data": {
      "text/plain": [
       "5"
      ]
     },
     "execution_count": 1,
     "metadata": {
      "tags": []
     },
     "output_type": "execute_result"
    }
   ],
   "source": [
    "3 + 2"
   ]
  },
  {
   "cell_type": "code",
   "execution_count": 0,
   "metadata": {
    "colab": {},
    "colab_type": "code",
    "id": "TSGtlmMbPAF3",
    "outputId": "0ca01d69-3467-4fc0-9354-b84174be015c"
   },
   "outputs": [
    {
     "data": {
      "text/plain": [
       "9"
      ]
     },
     "execution_count": 104,
     "metadata": {
      "tags": []
     },
     "output_type": "execute_result"
    }
   ],
   "source": [
    "9*9"
   ]
  },
  {
   "cell_type": "code",
   "execution_count": 2,
   "metadata": {
    "colab": {
     "base_uri": "https://localhost:8080/",
     "height": 34
    },
    "colab_type": "code",
    "id": "DMnHjkblPAF-",
    "outputId": "5e4d8f6d-7c30-4db6-9d42-6706f3240f73"
   },
   "outputs": [
    {
     "data": {
      "text/plain": [
       "0.9"
      ]
     },
     "execution_count": 2,
     "metadata": {
      "tags": []
     },
     "output_type": "execute_result"
    }
   ],
   "source": [
    "27/30"
   ]
  },
  {
   "cell_type": "code",
   "execution_count": 3,
   "metadata": {
    "colab": {
     "base_uri": "https://localhost:8080/",
     "height": 34
    },
    "colab_type": "code",
    "id": "RBba3vqUPAGF",
    "outputId": "8742d881-cbbb-44d4-c7c5-67eb83a5bd27"
   },
   "outputs": [
    {
     "data": {
      "text/plain": [
       "0"
      ]
     },
     "execution_count": 3,
     "metadata": {
      "tags": []
     },
     "output_type": "execute_result"
    }
   ],
   "source": [
    "#modulo\n",
    "\n",
    "4 % 2"
   ]
  },
  {
   "cell_type": "code",
   "execution_count": 6,
   "metadata": {
    "colab": {
     "base_uri": "https://localhost:8080/",
     "height": 34
    },
    "colab_type": "code",
    "id": "WhXQe75UPAGL",
    "outputId": "7be3c98d-9745-46b5-c174-cfb632b86c4a"
   },
   "outputs": [
    {
     "data": {
      "text/plain": [
       "9"
      ]
     },
     "execution_count": 6,
     "metadata": {
      "tags": []
     },
     "output_type": "execute_result"
    }
   ],
   "source": [
    "3 ** 2"
   ]
  },
  {
   "cell_type": "code",
   "execution_count": 0,
   "metadata": {
    "colab": {},
    "colab_type": "code",
    "id": "wC95UaTXPAGR"
   },
   "outputs": [],
   "source": [
    "# Para comentários em uma linha, basta pressionar o símbolo \"#\". "
   ]
  },
  {
   "cell_type": "code",
   "execution_count": 0,
   "metadata": {
    "colab": {},
    "colab_type": "code",
    "id": "zie2XRybPAGX"
   },
   "outputs": [],
   "source": [
    "#5*5"
   ]
  },
  {
   "cell_type": "code",
   "execution_count": 11,
   "metadata": {
    "colab": {
     "base_uri": "https://localhost:8080/",
     "height": 34
    },
    "colab_type": "code",
    "id": "87ZVUM50PAGe",
    "outputId": "b3fa82b6-d7e5-4215-ebbc-a6ecb9d31a22"
   },
   "outputs": [
    {
     "data": {
      "text/plain": [
       "0.5"
      ]
     },
     "execution_count": 11,
     "metadata": {
      "tags": []
     },
     "output_type": "execute_result"
    }
   ],
   "source": [
    "(2 * 3) / (3 + 9)"
   ]
  },
  {
   "cell_type": "markdown",
   "metadata": {
    "colab_type": "text",
    "id": "Xkeq6IMuPAGp"
   },
   "source": [
    "### Definição de variáveis"
   ]
  },
  {
   "cell_type": "code",
   "execution_count": 0,
   "metadata": {
    "colab": {},
    "colab_type": "code",
    "id": "qC0R3D15PAGs"
   },
   "outputs": [],
   "source": [
    "nomeDaVariavel = 2\n",
    "nomeDaVariavel = 10\n",
    "#1variavel: não pode começar com numero\n",
    "#Nome: não pode começar com letra maiuscula"
   ]
  },
  {
   "cell_type": "code",
   "execution_count": 0,
   "metadata": {
    "colab": {},
    "colab_type": "code",
    "id": "y0QxlTZrPAGz"
   },
   "outputs": [],
   "source": [
    "#2_mais~Uma~Variável = 3"
   ]
  },
  {
   "cell_type": "code",
   "execution_count": 0,
   "metadata": {
    "colab": {},
    "colab_type": "code",
    "id": "Yal70RWsPAG3"
   },
   "outputs": [],
   "source": [
    "x = 2\n",
    "y = 3"
   ]
  },
  {
   "cell_type": "code",
   "execution_count": 0,
   "metadata": {
    "colab": {},
    "colab_type": "code",
    "id": "OJkHBQeUPAG8"
   },
   "outputs": [],
   "source": [
    "z = x + y"
   ]
  },
  {
   "cell_type": "code",
   "execution_count": 0,
   "metadata": {
    "colab": {},
    "colab_type": "code",
    "id": "_SGAk_nvPAHB",
    "outputId": "f70caed6-170c-4730-9ef8-94c68ca62b0a"
   },
   "outputs": [
    {
     "data": {
      "text/plain": [
       "5"
      ]
     },
     "execution_count": 12,
     "metadata": {
      "tags": []
     },
     "output_type": "execute_result"
    }
   ],
   "source": [
    "z"
   ]
  },
  {
   "cell_type": "markdown",
   "metadata": {
    "colab_type": "text",
    "id": "nFxnVFHvPAHH"
   },
   "source": [
    "### Strings e Exibições!"
   ]
  },
  {
   "cell_type": "code",
   "execution_count": 0,
   "metadata": {
    "colab": {},
    "colab_type": "code",
    "id": "mqPZJ8uvPAHH",
    "outputId": "15526dfe-5fa7-41cf-8661-33f022e6fcae"
   },
   "outputs": [
    {
     "data": {
      "text/plain": [
       "'Olá, eu sou um texto!'"
      ]
     },
     "execution_count": 112,
     "metadata": {
      "tags": []
     },
     "output_type": "execute_result"
    }
   ],
   "source": [
    "'Olá, eu sou um texto!'"
   ]
  },
  {
   "cell_type": "code",
   "execution_count": 0,
   "metadata": {
    "colab": {},
    "colab_type": "code",
    "id": "icJQwS5kPAHM",
    "outputId": "1e16fa3f-75fb-4fb4-ec22-683b4103335f"
   },
   "outputs": [
    {
     "data": {
      "text/plain": [
       "'Olá, eu sou um texto e também funciono com citação dupla!'"
      ]
     },
     "execution_count": 111,
     "metadata": {
      "tags": []
     },
     "output_type": "execute_result"
    }
   ],
   "source": [
    "\"Olá, eu sou um texto e também funciono com citação dupla!\""
   ]
  },
  {
   "cell_type": "code",
   "execution_count": 0,
   "metadata": {
    "colab": {},
    "colab_type": "code",
    "id": "8BFYVQvwPAHT"
   },
   "outputs": [],
   "source": [
    "x = 'ola'"
   ]
  },
  {
   "cell_type": "code",
   "execution_count": 0,
   "metadata": {
    "colab": {},
    "colab_type": "code",
    "id": "ehfiTuuePAHY",
    "outputId": "c9f14315-668f-49e0-b47b-17980c08e11e"
   },
   "outputs": [
    {
     "data": {
      "text/plain": [
       "'ola'"
      ]
     },
     "execution_count": 16,
     "metadata": {
      "tags": []
     },
     "output_type": "execute_result"
    }
   ],
   "source": [
    "x"
   ]
  },
  {
   "cell_type": "code",
   "execution_count": 0,
   "metadata": {
    "colab": {},
    "colab_type": "code",
    "id": "Kh0FyjDTPAHd",
    "outputId": "8374fa5c-085f-42b7-8547-7ab843f45eae"
   },
   "outputs": [
    {
     "name": "stdout",
     "output_type": "stream",
     "text": [
      "ola\n"
     ]
    }
   ],
   "source": [
    "print(x)"
   ]
  },
  {
   "cell_type": "code",
   "execution_count": 0,
   "metadata": {
    "colab": {},
    "colab_type": "code",
    "id": "-CMHsaXsPAHi"
   },
   "outputs": [],
   "source": [
    "num = 23\n",
    "nome = 'Cesar'"
   ]
  },
  {
   "cell_type": "code",
   "execution_count": 0,
   "metadata": {
    "colab": {},
    "colab_type": "code",
    "id": "s2wMTYvWPAHn",
    "outputId": "37ad4901-55e4-4149-c320-800acaa9676f",
    "scrolled": true
   },
   "outputs": [
    {
     "name": "stdout",
     "output_type": "stream",
     "text": [
      "Meu número é: 23, e meu nome é: Cesar\n"
     ]
    }
   ],
   "source": [
    "print('Meu número é: {one}, e meu nome é: {two}'.format(one=num,two=nome))"
   ]
  },
  {
   "cell_type": "markdown",
   "metadata": {
    "colab_type": "text",
    "id": "GIVOJg8QPAHs"
   },
   "source": [
    "### Listas"
   ]
  },
  {
   "cell_type": "code",
   "execution_count": 0,
   "metadata": {
    "colab": {},
    "colab_type": "code",
    "id": "TxarRS8APAHt",
    "outputId": "48171856-a6a8-4105-cc0c-9d6d88088f6f"
   },
   "outputs": [
    {
     "data": {
      "text/plain": [
       "True"
      ]
     },
     "execution_count": 36,
     "metadata": {
      "tags": []
     },
     "output_type": "execute_result"
    }
   ],
   "source": [
    "[1,2,3] != [1,3,2]#como para a lista a ordem em que os elementos estao alocados importa, as listas são consideradas diferentes\n",
    "#[nome,num]\n"
   ]
  },
  {
   "cell_type": "code",
   "execution_count": 0,
   "metadata": {
    "colab": {},
    "colab_type": "code",
    "id": "7zbrtLbEPAHz",
    "outputId": "0ebb8f1d-4e0c-41a0-d105-cd0c5ee4d31d"
   },
   "outputs": [
    {
     "data": {
      "text/plain": [
       "['hi', 1, [1, 2]]"
      ]
     },
     "execution_count": 21,
     "metadata": {
      "tags": []
     },
     "output_type": "execute_result"
    }
   ],
   "source": [
    "['hi',1,[1,2]]"
   ]
  },
  {
   "cell_type": "code",
   "execution_count": 0,
   "metadata": {
    "colab": {},
    "colab_type": "code",
    "id": "QkqMJ4lHPAH3"
   },
   "outputs": [],
   "source": [
    "minha_lista = ['a','b','c']"
   ]
  },
  {
   "cell_type": "code",
   "execution_count": 0,
   "metadata": {
    "colab": {},
    "colab_type": "code",
    "id": "SA2tKoydPAH6"
   },
   "outputs": [],
   "source": [
    "minha_lista.append('d') #.append: inserir string na lista"
   ]
  },
  {
   "cell_type": "code",
   "execution_count": 0,
   "metadata": {
    "colab": {},
    "colab_type": "code",
    "id": "c_5O2gUjPAH_",
    "outputId": "ca0cb6c7-dbef-499c-b00b-38a0e827b092"
   },
   "outputs": [
    {
     "data": {
      "text/plain": [
       "['a', 'b', 'c', 'd']"
      ]
     },
     "execution_count": 21,
     "metadata": {
      "tags": []
     },
     "output_type": "execute_result"
    }
   ],
   "source": [
    "minha_lista"
   ]
  },
  {
   "cell_type": "code",
   "execution_count": 0,
   "metadata": {
    "colab": {},
    "colab_type": "code",
    "id": "4hZ0RE_-PAIC",
    "outputId": "162003e2-3559-47d5-ec70-9a7e0c096506"
   },
   "outputs": [
    {
     "data": {
      "text/plain": [
       "'a'"
      ]
     },
     "execution_count": 22,
     "metadata": {
      "tags": []
     },
     "output_type": "execute_result"
    }
   ],
   "source": [
    "minha_lista[0] #chamar elemento especifico da lista pela ordem que começa sempre com zero"
   ]
  },
  {
   "cell_type": "code",
   "execution_count": 0,
   "metadata": {
    "colab": {},
    "colab_type": "code",
    "id": "N-IylmRyPAIH",
    "outputId": "0e7316b6-f15e-47b5-ded0-b76f8619567b"
   },
   "outputs": [
    {
     "data": {
      "text/plain": [
       "'b'"
      ]
     },
     "execution_count": 26,
     "metadata": {
      "tags": []
     },
     "output_type": "execute_result"
    }
   ],
   "source": [
    "minha_lista[1]"
   ]
  },
  {
   "cell_type": "code",
   "execution_count": 0,
   "metadata": {
    "colab": {},
    "colab_type": "code",
    "id": "-GXzS0wjPAIN",
    "outputId": "49cff948-bb4b-4020-deeb-cf4af86adb7d"
   },
   "outputs": [
    {
     "data": {
      "text/plain": [
       "['b', 'c', 'd']"
      ]
     },
     "execution_count": 23,
     "metadata": {
      "tags": []
     },
     "output_type": "execute_result"
    }
   ],
   "source": [
    "minha_lista[1:] #fatia a lista pegando apenas um intervalo de elementos que aparecem a partir do elemento 1 que é 'b'"
   ]
  },
  {
   "cell_type": "code",
   "execution_count": 0,
   "metadata": {
    "colab": {},
    "colab_type": "code",
    "id": "GRJr_vF6PAIS",
    "outputId": "b8cb8c91-11c2-4472-9466-7fc63431d4d0"
   },
   "outputs": [
    {
     "data": {
      "text/plain": [
       "['b', 'c']"
      ]
     },
     "execution_count": 27,
     "metadata": {
      "tags": []
     },
     "output_type": "execute_result"
    }
   ],
   "source": [
    "minha_lista[:1] #fatia a lista pegando apenas um intervalo de elementos que aparecem antes do elemento 1 que é 'b'\n",
    "minha_lista[1:3] #pega a partir do elemento 1 até o ultimo elemento antes do elemento 3"
   ]
  },
  {
   "cell_type": "code",
   "execution_count": 0,
   "metadata": {
    "colab": {},
    "colab_type": "code",
    "id": "6OBaYyQDPAIX"
   },
   "outputs": [],
   "source": [
    "minha_lista[0] = 'NOVO' #muda apenas o elemento selecionado atraves da ordem em que ele se encontra na lista"
   ]
  },
  {
   "cell_type": "code",
   "execution_count": 0,
   "metadata": {
    "colab": {},
    "colab_type": "code",
    "id": "eCSTfg2QPAIZ",
    "outputId": "a5c36fd3-e37f-49f0-f8ee-5791d68cc435"
   },
   "outputs": [
    {
     "data": {
      "text/plain": [
       "['NOVO', 'b', 'c', 'd']"
      ]
     },
     "execution_count": 29,
     "metadata": {
      "tags": []
     },
     "output_type": "execute_result"
    }
   ],
   "source": [
    "minha_lista"
   ]
  },
  {
   "cell_type": "code",
   "execution_count": 0,
   "metadata": {
    "colab": {},
    "colab_type": "code",
    "id": "n7jBNmXFPAIc"
   },
   "outputs": [],
   "source": [
    "nest = [1,2,3,[4,5,['target']]]"
   ]
  },
  {
   "cell_type": "code",
   "execution_count": 0,
   "metadata": {
    "colab": {},
    "colab_type": "code",
    "id": "80t0gQ2xPAIg",
    "outputId": "a2a645cb-8ec9-4b5d-a40a-1f4a538ad73f"
   },
   "outputs": [
    {
     "data": {
      "text/plain": [
       "[4, 5, ['target']]"
      ]
     },
     "execution_count": 32,
     "metadata": {
      "tags": []
     },
     "output_type": "execute_result"
    }
   ],
   "source": [
    "nest[3] #chama o elemento numero 3 (quarto da lista) da primeira lista feita, mesmo que esse elemento seja outra lista dentro da primeira lista\n"
   ]
  },
  {
   "cell_type": "code",
   "execution_count": 0,
   "metadata": {
    "colab": {},
    "colab_type": "code",
    "id": "Eg9952CfPAIj",
    "outputId": "6bc62212-de5d-4bb7-9541-e2d1e6c24504"
   },
   "outputs": [
    {
     "data": {
      "text/plain": [
       "['target']"
      ]
     },
     "execution_count": 33,
     "metadata": {
      "tags": []
     },
     "output_type": "execute_result"
    }
   ],
   "source": [
    "nest[3][2] #chama o elemento 2 que está dentro do elemento 3"
   ]
  },
  {
   "cell_type": "code",
   "execution_count": 0,
   "metadata": {
    "colab": {},
    "colab_type": "code",
    "id": "429httX2PAIm",
    "outputId": "fc022def-9b06-4c31-cdb7-9864d13d95ac"
   },
   "outputs": [
    {
     "data": {
      "text/plain": [
       "'target'"
      ]
     },
     "execution_count": 34,
     "metadata": {
      "tags": []
     },
     "output_type": "execute_result"
    }
   ],
   "source": [
    "nest[3][2][0]"
   ]
  },
  {
   "cell_type": "code",
   "execution_count": 0,
   "metadata": {
    "colab": {},
    "colab_type": "code",
    "id": "p119SgbPPAIo",
    "outputId": "491303b6-3b5d-48dc-a176-90c57603fd29"
   },
   "outputs": [
    {
     "data": {
      "text/plain": [
       "[1, 2, 3, 2, 5, 6]"
      ]
     },
     "execution_count": 38,
     "metadata": {
      "tags": []
     },
     "output_type": "execute_result"
    }
   ],
   "source": [
    "[1,2,3]+[2,5,6] #acrescenta os dados de uma lista na outra"
   ]
  },
  {
   "cell_type": "markdown",
   "metadata": {
    "colab_type": "text",
    "id": "Ihr7gAHePAIr"
   },
   "source": [
    "### Dicionários"
   ]
  },
  {
   "cell_type": "code",
   "execution_count": 1,
   "metadata": {
    "colab": {},
    "colab_type": "code",
    "id": "bodgzeknPAIt"
   },
   "outputs": [],
   "source": [
    "d = {'chave1':'item1','chave2':'item2', 'professor': 'Kimura'} #com o dicionario pode-se renomear a posição dos elementos e buscar por isso ao invés de buscar pela ordem como na lista"
   ]
  },
  {
   "cell_type": "code",
   "execution_count": 2,
   "metadata": {
    "colab": {},
    "colab_type": "code",
    "id": "nTS2asO1PAIw",
    "outputId": "6afc0135-5898-4802-d8ce-302021d87503"
   },
   "outputs": [
    {
     "data": {
      "text/plain": [
       "{'chave1': 'item1', 'chave2': 'item2', 'professor': 'Kimura'}"
      ]
     },
     "execution_count": 2,
     "metadata": {},
     "output_type": "execute_result"
    }
   ],
   "source": [
    "d"
   ]
  },
  {
   "cell_type": "code",
   "execution_count": 3,
   "metadata": {
    "colab": {},
    "colab_type": "code",
    "id": "FfMtveGRPAIz",
    "outputId": "63cd5833-7a24-49b8-bf0b-2c63dc308d95"
   },
   "outputs": [
    {
     "data": {
      "text/plain": [
       "'Kimura'"
      ]
     },
     "execution_count": 3,
     "metadata": {},
     "output_type": "execute_result"
    }
   ],
   "source": [
    "d['professor']"
   ]
  },
  {
   "cell_type": "markdown",
   "metadata": {
    "colab_type": "text",
    "id": "q5pgltrKPAI6"
   },
   "source": [
    "### Booleanos"
   ]
  },
  {
   "cell_type": "code",
   "execution_count": 0,
   "metadata": {
    "colab": {},
    "colab_type": "code",
    "id": "ptv47gdfPAI6",
    "outputId": "87e7142c-f42e-4cce-fed1-8a78a81491f0"
   },
   "outputs": [
    {
     "data": {
      "text/plain": [
       "True"
      ]
     },
     "execution_count": 37,
     "metadata": {
      "tags": []
     },
     "output_type": "execute_result"
    }
   ],
   "source": [
    "True #= ou =="
   ]
  },
  {
   "cell_type": "code",
   "execution_count": 0,
   "metadata": {
    "colab": {},
    "colab_type": "code",
    "id": "w8PkuhxKPAJM",
    "outputId": "26a59a68-2667-4f08-963a-e93aeaeb258d"
   },
   "outputs": [
    {
     "data": {
      "text/plain": [
       "False"
      ]
     },
     "execution_count": 39,
     "metadata": {
      "tags": []
     },
     "output_type": "execute_result"
    }
   ],
   "source": [
    "False"
   ]
  },
  {
   "cell_type": "markdown",
   "metadata": {
    "colab_type": "text",
    "id": "qcwYhPhXPAJQ"
   },
   "source": [
    "### Tuplas"
   ]
  },
  {
   "cell_type": "code",
   "execution_count": 0,
   "metadata": {
    "colab": {},
    "colab_type": "code",
    "id": "wJKsW5zAPAJS"
   },
   "outputs": [],
   "source": [
    "t = (1,2,3) # diferente da lista, a tupla é imutável (não muda e não altera os elementos)"
   ]
  },
  {
   "cell_type": "code",
   "execution_count": 0,
   "metadata": {
    "colab": {},
    "colab_type": "code",
    "id": "u7wOKzWRPAJU",
    "scrolled": true
   },
   "outputs": [],
   "source": [
    "t=[0]"
   ]
  },
  {
   "cell_type": "code",
   "execution_count": 0,
   "metadata": {
    "colab": {},
    "colab_type": "code",
    "id": "SkP3wwHDPAJW"
   },
   "outputs": [],
   "source": [
    "#t[0] = 2"
   ]
  },
  {
   "cell_type": "markdown",
   "metadata": {
    "colab_type": "text",
    "id": "H_LpgNFyPAJa"
   },
   "source": [
    "### Sets"
   ]
  },
  {
   "cell_type": "code",
   "execution_count": 0,
   "metadata": {
    "colab": {},
    "colab_type": "code",
    "id": "tlw7mYHIPAJb",
    "outputId": "6f2ccd4a-a5b4-4f3b-db87-39c909d2c739"
   },
   "outputs": [
    {
     "data": {
      "text/plain": [
       "{1, 2, 3}"
      ]
     },
     "execution_count": 43,
     "metadata": {
      "tags": []
     },
     "output_type": "execute_result"
    }
   ],
   "source": [
    "{1,2,3,3} #não repete os elementos.\n"
   ]
  },
  {
   "cell_type": "code",
   "execution_count": 0,
   "metadata": {
    "colab": {},
    "colab_type": "code",
    "id": "9ALcnsDuPAJf",
    "outputId": "b5bbe44b-87fd-4dfc-97cb-37bbd3a53670"
   },
   "outputs": [
    {
     "data": {
      "text/plain": [
       "{1, 2, 3}"
      ]
     },
     "execution_count": 114,
     "metadata": {
      "tags": []
     },
     "output_type": "execute_result"
    }
   ],
   "source": [
    "{1,2,3,1,2,1,2,3,3,3,3,2,2,2,1,1,2}\n",
    "\n",
    "#Ahhh, esse é fácil!"
   ]
  },
  {
   "cell_type": "markdown",
   "metadata": {
    "colab_type": "text",
    "id": "9OfnlfYGjxq4"
   },
   "source": []
  },
  {
   "cell_type": "markdown",
   "metadata": {
    "colab_type": "text",
    "id": "mO0TkJiGPAJi"
   },
   "source": [
    "## Operadores de comparação"
   ]
  },
  {
   "cell_type": "code",
   "execution_count": 0,
   "metadata": {
    "colab": {},
    "colab_type": "code",
    "id": "wfqfYFFfPAJj",
    "outputId": "8ffa52dd-74b4-4571-ada3-9cdc111a599a"
   },
   "outputs": [
    {
     "data": {
      "text/plain": [
       "False"
      ]
     },
     "execution_count": 45,
     "metadata": {
      "tags": []
     },
     "output_type": "execute_result"
    }
   ],
   "source": [
    "1 > 2"
   ]
  },
  {
   "cell_type": "code",
   "execution_count": 0,
   "metadata": {
    "colab": {},
    "colab_type": "code",
    "id": "uJ6awkioPAJn",
    "outputId": "ca04ee9d-42ca-4b02-a54b-599330a2dedb"
   },
   "outputs": [
    {
     "data": {
      "text/plain": [
       "True"
      ]
     },
     "execution_count": 46,
     "metadata": {
      "tags": []
     },
     "output_type": "execute_result"
    }
   ],
   "source": [
    "1 < 2"
   ]
  },
  {
   "cell_type": "code",
   "execution_count": 0,
   "metadata": {
    "colab": {},
    "colab_type": "code",
    "id": "hzbdXytMPAJr",
    "outputId": "271e93a9-1432-42da-8edb-9b6e2688c6b0"
   },
   "outputs": [
    {
     "data": {
      "text/plain": [
       "True"
      ]
     },
     "execution_count": 47,
     "metadata": {
      "tags": []
     },
     "output_type": "execute_result"
    }
   ],
   "source": [
    "1 >= 1"
   ]
  },
  {
   "cell_type": "code",
   "execution_count": 0,
   "metadata": {
    "colab": {},
    "colab_type": "code",
    "id": "SZH2T1BSPAJu",
    "outputId": "0b3b7eb2-7847-4b0c-9f8c-1835003f12e2"
   },
   "outputs": [
    {
     "data": {
      "text/plain": [
       "True"
      ]
     },
     "execution_count": 48,
     "metadata": {
      "tags": []
     },
     "output_type": "execute_result"
    }
   ],
   "source": [
    "1 <= 4"
   ]
  },
  {
   "cell_type": "code",
   "execution_count": 0,
   "metadata": {
    "colab": {},
    "colab_type": "code",
    "id": "P7_-Xj-LPAJy",
    "outputId": "10429115-7545-4f9b-fb0f-ed6ebf315ab4"
   },
   "outputs": [
    {
     "data": {
      "text/plain": [
       "True"
      ]
     },
     "execution_count": 49,
     "metadata": {
      "tags": []
     },
     "output_type": "execute_result"
    }
   ],
   "source": [
    "1 == 1"
   ]
  },
  {
   "cell_type": "code",
   "execution_count": 0,
   "metadata": {
    "colab": {},
    "colab_type": "code",
    "id": "k2ItoDUSPAJ1",
    "outputId": "a5573ddd-9186-4c0e-9af9-cf5e4b8f6686"
   },
   "outputs": [
    {
     "data": {
      "text/plain": [
       "False"
      ]
     },
     "execution_count": 50,
     "metadata": {
      "tags": []
     },
     "output_type": "execute_result"
    }
   ],
   "source": [
    "'oi' == 'tchau'"
   ]
  },
  {
   "cell_type": "markdown",
   "metadata": {
    "colab_type": "text",
    "id": "-dqstlVuPAJ4"
   },
   "source": [
    "## Operadores lógicos"
   ]
  },
  {
   "cell_type": "code",
   "execution_count": 0,
   "metadata": {
    "colab": {},
    "colab_type": "code",
    "id": "dJ1XpU2OPAJ5",
    "outputId": "75d6c172-6bb2-45de-f084-d33fea8b67bc"
   },
   "outputs": [
    {
     "data": {
      "text/plain": [
       "False"
      ]
     },
     "execution_count": 47,
     "metadata": {
      "tags": []
     },
     "output_type": "execute_result"
    }
   ],
   "source": [
    "(1 > 2) and (2 < 3) #se as duas condicoes n forem atingidas, ele retornará false\n"
   ]
  },
  {
   "cell_type": "code",
   "execution_count": 0,
   "metadata": {
    "colab": {},
    "colab_type": "code",
    "id": "9Rx8lk8oPAJ7",
    "outputId": "888bf4ba-8c60-4731-b00c-019b4849056f"
   },
   "outputs": [
    {
     "data": {
      "text/plain": [
       "True"
      ]
     },
     "execution_count": 52,
     "metadata": {
      "tags": []
     },
     "output_type": "execute_result"
    }
   ],
   "source": [
    "(1 > 2) or (2 < 3)"
   ]
  },
  {
   "cell_type": "code",
   "execution_count": 0,
   "metadata": {
    "colab": {},
    "colab_type": "code",
    "id": "A29kF1SNPAKG",
    "outputId": "c080abf2-db1e-486f-f917-a85d743964ec"
   },
   "outputs": [
    {
     "data": {
      "text/plain": [
       "True"
      ]
     },
     "execution_count": 53,
     "metadata": {
      "tags": []
     },
     "output_type": "execute_result"
    }
   ],
   "source": [
    "(1 == 2) or (2 == 3) or (4 == 4)"
   ]
  },
  {
   "cell_type": "markdown",
   "metadata": {
    "colab_type": "text",
    "id": "hcdhFdL5PAKJ"
   },
   "source": [
    "## if,elif, else"
   ]
  },
  {
   "cell_type": "code",
   "execution_count": 0,
   "metadata": {
    "colab": {},
    "colab_type": "code",
    "id": "AJ2577t8PAKK",
    "outputId": "acec054b-c903-4865-d68a-c618895f980f"
   },
   "outputs": [
    {
     "name": "stdout",
     "output_type": "stream",
     "text": [
      "Sim!\n"
     ]
    }
   ],
   "source": [
    "if 1 < 2:\n",
    "    print('Sim!')"
   ]
  },
  {
   "cell_type": "code",
   "execution_count": 0,
   "metadata": {
    "colab": {},
    "colab_type": "code",
    "id": "7e8MDER-PAKN",
    "outputId": "29622767-59e7-40aa-97ea-c78bb69e4320"
   },
   "outputs": [
    {
     "name": "stdout",
     "output_type": "stream",
     "text": [
      "Primeiro\n"
     ]
    }
   ],
   "source": [
    "if 1 < 2:\n",
    "    print('Primeiro')\n",
    "else:\n",
    "    print('Último')"
   ]
  },
  {
   "cell_type": "code",
   "execution_count": 0,
   "metadata": {
    "colab": {},
    "colab_type": "code",
    "id": "Yfa6_tTEPAKP",
    "outputId": "1097a5f8-eaba-4d6d-c495-e72a93be1290"
   },
   "outputs": [
    {
     "name": "stdout",
     "output_type": "stream",
     "text": [
      "Último\n"
     ]
    }
   ],
   "source": [
    "if 1 > 2:\n",
    "    print('Primeiro')\n",
    "else:\n",
    "    print('Último')"
   ]
  },
  {
   "cell_type": "code",
   "execution_count": 0,
   "metadata": {
    "colab": {},
    "colab_type": "code",
    "id": "pQaIkwmpPAKS",
    "outputId": "cc884d23-5222-431b-a99b-769981a31458"
   },
   "outputs": [
    {
     "name": "stdout",
     "output_type": "stream",
     "text": [
      "Meio\n"
     ]
    }
   ],
   "source": [
    "if 1 == 2:\n",
    "    print('Primeiro')\n",
    "elif 3 == 3:\n",
    "    print('Meio')\n",
    "else:\n",
    "    print('Último')\n",
    "    \n",
    "#utilizar elif ao inves de else if"
   ]
  },
  {
   "cell_type": "markdown",
   "metadata": {
    "colab_type": "text",
    "id": "yEWAOCe5PAKV"
   },
   "source": [
    "## for Loops"
   ]
  },
  {
   "cell_type": "code",
   "execution_count": 0,
   "metadata": {
    "colab": {},
    "colab_type": "code",
    "id": "BNNMwVPRPAKV"
   },
   "outputs": [],
   "source": [
    "seq = [1,2,3,4,5]"
   ]
  },
  {
   "cell_type": "code",
   "execution_count": 0,
   "metadata": {
    "colab": {},
    "colab_type": "code",
    "id": "ZPzMeJlxPAKY",
    "outputId": "0ee04e17-80a6-4e3d-a5bd-546bef125f4a"
   },
   "outputs": [
    {
     "name": "stdout",
     "output_type": "stream",
     "text": [
      "1\n",
      "2\n",
      "3\n",
      "4\n",
      "5\n"
     ]
    }
   ],
   "source": [
    "for item in seq: #renomeia os elementos da lista por 'item'\n",
    "    print(item)\n",
    "    #print (item + item) #soma os itens da lista com eles mesmos"
   ]
  },
  {
   "cell_type": "code",
   "execution_count": 0,
   "metadata": {
    "colab": {},
    "colab_type": "code",
    "id": "4TBlg0UCPAKZ",
    "outputId": "c2b098b9-3a36-427e-e264-6149648e9572"
   },
   "outputs": [
    {
     "name": "stdout",
     "output_type": "stream",
     "text": [
      "!\n",
      "!\n",
      "!\n",
      "!\n",
      "!\n"
     ]
    }
   ],
   "source": [
    "for item in seq:\n",
    "    print('!')"
   ]
  },
  {
   "cell_type": "code",
   "execution_count": 0,
   "metadata": {
    "colab": {},
    "colab_type": "code",
    "id": "GDAXu_M9PAKd",
    "outputId": "177a7f22-de75-424d-f7e7-67b13e4dc99f"
   },
   "outputs": [
    {
     "name": "stdout",
     "output_type": "stream",
     "text": [
      "2\n",
      "4\n",
      "6\n",
      "8\n",
      "10\n"
     ]
    }
   ],
   "source": [
    "for outra_coisa in seq:\n",
    "    print(outra_coisa+outra_coisa)"
   ]
  },
  {
   "cell_type": "markdown",
   "metadata": {
    "colab_type": "text",
    "id": "KknpMgF6PAKf"
   },
   "source": [
    "## while Loops"
   ]
  },
  {
   "cell_type": "code",
   "execution_count": 0,
   "metadata": {
    "colab": {},
    "colab_type": "code",
    "id": "z3eTgq24PAKf",
    "outputId": "a34dfee5-210f-4d3e-bd2b-9ce66babdb6b"
   },
   "outputs": [
    {
     "name": "stdout",
     "output_type": "stream",
     "text": [
      "i is: 1\n",
      "i is: 2\n",
      "i is: 3\n",
      "i is: 4\n"
     ]
    }
   ],
   "source": [
    "i = 1\n",
    "while i < 5:\n",
    "    print('i is: {}'.format(i))\n",
    "    i = i+1"
   ]
  },
  {
   "cell_type": "markdown",
   "metadata": {
    "colab_type": "text",
    "id": "qG_9opXcPAKi"
   },
   "source": [
    "## range()"
   ]
  },
  {
   "cell_type": "code",
   "execution_count": 0,
   "metadata": {
    "colab": {},
    "colab_type": "code",
    "id": "tZDDS61FPAKi",
    "outputId": "a15a2670-0c57-41da-fabb-809aec6a5918"
   },
   "outputs": [
    {
     "data": {
      "text/plain": [
       "range(0, 6)"
      ]
     },
     "execution_count": 58,
     "metadata": {
      "tags": []
     },
     "output_type": "execute_result"
    }
   ],
   "source": [
    "range(6)"
   ]
  },
  {
   "cell_type": "code",
   "execution_count": 0,
   "metadata": {
    "colab": {},
    "colab_type": "code",
    "id": "zdvFzfl3PAKl",
    "outputId": "63a03c2e-0e58-45cd-b848-ba1f2925c683"
   },
   "outputs": [
    {
     "name": "stdout",
     "output_type": "stream",
     "text": [
      "0\n",
      "1\n",
      "2\n",
      "3\n",
      "4\n",
      "5\n"
     ]
    }
   ],
   "source": [
    "for i in range(6):\n",
    "    print(i)"
   ]
  },
  {
   "cell_type": "code",
   "execution_count": 0,
   "metadata": {
    "colab": {},
    "colab_type": "code",
    "id": "n0pmV5pdPAKo",
    "outputId": "c200fe35-c720-4169-ecea-a422fcd759c5"
   },
   "outputs": [
    {
     "data": {
      "text/plain": [
       "[0, 1, 2, 3, 4, 5]"
      ]
     },
     "execution_count": 60,
     "metadata": {
      "tags": []
     },
     "output_type": "execute_result"
    }
   ],
   "source": [
    "list(range(6))"
   ]
  },
  {
   "cell_type": "markdown",
   "metadata": {
    "colab_type": "text",
    "id": "Tllgl1V7PAKw"
   },
   "source": [
    "## Funções"
   ]
  },
  {
   "cell_type": "code",
   "execution_count": 0,
   "metadata": {
    "colab": {},
    "colab_type": "code",
    "id": "KImFenv8PAKx"
   },
   "outputs": [],
   "source": [
    "def my_func(elemento='default'): #define função : def nomedafunção(parametro)\n",
    "    \"\"\"\n",
    "     Descrição da nossa função geralmente vai aqui!\n",
    "    \"\"\"\n",
    "    print(elemento*2)"
   ]
  },
  {
   "cell_type": "code",
   "execution_count": 0,
   "metadata": {
    "colab": {},
    "colab_type": "code",
    "id": "Wx110REhPAK1",
    "outputId": "60b43bac-d864-4748-96b6-2da3e2f65967"
   },
   "outputs": [
    {
     "name": "stdout",
     "output_type": "stream",
     "text": [
      "4\n"
     ]
    }
   ],
   "source": [
    "a=2\n",
    "my_func(a)"
   ]
  },
  {
   "cell_type": "code",
   "execution_count": 0,
   "metadata": {
    "colab": {},
    "colab_type": "code",
    "id": "Y9KhHmC7PAK4",
    "outputId": "a7bfe794-1ba7-4eaf-ab1c-02c3941ba899"
   },
   "outputs": [
    {
     "name": "stdout",
     "output_type": "stream",
     "text": [
      "defaultdefault\n"
     ]
    }
   ],
   "source": [
    "my_func()"
   ]
  },
  {
   "cell_type": "code",
   "execution_count": 0,
   "metadata": {
    "colab": {},
    "colab_type": "code",
    "id": "akuPep3jPAK6",
    "outputId": "ee9427f0-9b98-4548-b9f6-7e8b85a2f238"
   },
   "outputs": [
    {
     "name": "stdout",
     "output_type": "stream",
     "text": [
      "novo parametro\n"
     ]
    }
   ],
   "source": [
    "my_func('novo parametro')"
   ]
  },
  {
   "cell_type": "code",
   "execution_count": 0,
   "metadata": {
    "colab": {},
    "colab_type": "code",
    "id": "WLCCteqrPAK8",
    "outputId": "cf18a187-012b-496c-c09c-e6f7c512b33e"
   },
   "outputs": [
    {
     "name": "stdout",
     "output_type": "stream",
     "text": [
      "novo parametro\n"
     ]
    }
   ],
   "source": [
    "my_func(param1='novo parametro')"
   ]
  },
  {
   "cell_type": "code",
   "execution_count": 0,
   "metadata": {
    "colab": {},
    "colab_type": "code",
    "id": "uQQrqCFYPAK_"
   },
   "outputs": [],
   "source": [
    "def quadrado(x):\n",
    "    return x**2"
   ]
  },
  {
   "cell_type": "code",
   "execution_count": 0,
   "metadata": {
    "colab": {},
    "colab_type": "code",
    "id": "2wCglrwNPALB"
   },
   "outputs": [],
   "source": [
    "out = quadrado(2)"
   ]
  },
  {
   "cell_type": "code",
   "execution_count": 0,
   "metadata": {
    "colab": {},
    "colab_type": "code",
    "id": "sWAtNrunPALD",
    "outputId": "468a1eb9-9f8a-4a9a-c17b-14eb02698079",
    "scrolled": true
   },
   "outputs": [
    {
     "name": "stdout",
     "output_type": "stream",
     "text": [
      "4\n"
     ]
    }
   ],
   "source": [
    " print(out)"
   ]
  },
  {
   "cell_type": "code",
   "execution_count": 0,
   "metadata": {
    "colab": {},
    "colab_type": "code",
    "id": "N9-b7nWRPALJ"
   },
   "outputs": [],
   "source": [
    "def vezes2(var):\n",
    "    return var*2"
   ]
  },
  {
   "cell_type": "code",
   "execution_count": 0,
   "metadata": {
    "colab": {},
    "colab_type": "code",
    "id": "zo4A_w0wPALL",
    "outputId": "490057f7-216f-449a-d3ae-5af0fd36b47e"
   },
   "outputs": [
    {
     "data": {
      "text/plain": [
       "12"
      ]
     },
     "execution_count": 71,
     "metadata": {
      "tags": []
     },
     "output_type": "execute_result"
    }
   ],
   "source": [
    "vezes2(6)"
   ]
  },
  {
   "cell_type": "code",
   "execution_count": 0,
   "metadata": {
    "colab": {},
    "colab_type": "code",
    "id": "RKiQN9EvPALM",
    "outputId": "35957d68-32bb-4473-984e-ce5761c42e20"
   },
   "outputs": [
    {
     "data": {
      "text/plain": [
       "<function __main__.<lambda>>"
      ]
     },
     "execution_count": 79,
     "metadata": {
      "tags": []
     },
     "output_type": "execute_result"
    }
   ],
   "source": [
    "lambda var: var*2"
   ]
  },
  {
   "cell_type": "markdown",
   "metadata": {
    "colab_type": "text",
    "id": "EPbao8kjPALO"
   },
   "source": [
    "## map e filter"
   ]
  },
  {
   "cell_type": "code",
   "execution_count": 0,
   "metadata": {
    "colab": {},
    "colab_type": "code",
    "id": "HFtri85qPALP"
   },
   "outputs": [],
   "source": [
    "seq = [1,2,3,4,5]"
   ]
  },
  {
   "cell_type": "code",
   "execution_count": 0,
   "metadata": {
    "colab": {},
    "colab_type": "code",
    "id": "6vvqH2bdPALS",
    "outputId": "dbe4d24f-c1e8-41dc-bcf7-3610d6e04a54"
   },
   "outputs": [
    {
     "data": {
      "text/plain": [
       "<map at 0x1ed96ece630>"
      ]
     },
     "execution_count": 73,
     "metadata": {
      "tags": []
     },
     "output_type": "execute_result"
    }
   ],
   "source": [
    "map(vezes2,seq)"
   ]
  },
  {
   "cell_type": "code",
   "execution_count": 0,
   "metadata": {
    "colab": {},
    "colab_type": "code",
    "id": "Pum7qux8PALW",
    "outputId": "b732dc7d-e948-4676-fd62-00a762048d27"
   },
   "outputs": [
    {
     "data": {
      "text/plain": [
       "[2, 4, 6, 8, 10]"
      ]
     },
     "execution_count": 74,
     "metadata": {
      "tags": []
     },
     "output_type": "execute_result"
    }
   ],
   "source": [
    "list(map(vezes2,seq))"
   ]
  },
  {
   "cell_type": "code",
   "execution_count": 0,
   "metadata": {
    "colab": {},
    "colab_type": "code",
    "id": "C5PwAH_zPALY",
    "outputId": "a45a82ca-b4d1-4497-d3ec-6abf4b88e8ee"
   },
   "outputs": [
    {
     "data": {
      "text/plain": [
       "[2, 4, 6, 8, 10]"
      ]
     },
     "execution_count": 75,
     "metadata": {
      "tags": []
     },
     "output_type": "execute_result"
    }
   ],
   "source": [
    "list(map(lambda var: var*2,seq))"
   ]
  },
  {
   "cell_type": "code",
   "execution_count": 0,
   "metadata": {
    "colab": {},
    "colab_type": "code",
    "id": "M5svp_0CPALa",
    "outputId": "3916acb7-3f18-4f12-c85e-1acc5b881a92"
   },
   "outputs": [
    {
     "data": {
      "text/plain": [
       "<filter at 0x1f5f5f8c080>"
      ]
     },
     "execution_count": 84,
     "metadata": {
      "tags": []
     },
     "output_type": "execute_result"
    }
   ],
   "source": [
    "filter(lambda item: item%2 == 0,seq)"
   ]
  },
  {
   "cell_type": "code",
   "execution_count": 0,
   "metadata": {
    "colab": {},
    "colab_type": "code",
    "id": "SX-DsZm0PALc",
    "outputId": "bbac32dc-039e-4269-cb5f-b4305a3a7d53"
   },
   "outputs": [
    {
     "data": {
      "text/plain": [
       "[2, 4]"
      ]
     },
     "execution_count": 85,
     "metadata": {
      "tags": []
     },
     "output_type": "execute_result"
    }
   ],
   "source": [
    "list(filter(lambda item: item%2 == 0,seq))"
   ]
  },
  {
   "cell_type": "code",
   "execution_count": 4,
   "metadata": {},
   "outputs": [
    {
     "data": {
      "text/plain": [
       "[1, 2, 3]"
      ]
     },
     "execution_count": 4,
     "metadata": {},
     "output_type": "execute_result"
    }
   ],
   "source": [
    "list({1,2,2,3})"
   ]
  },
  {
   "cell_type": "markdown",
   "metadata": {
    "colab_type": "text",
    "id": "wGmLsoG-PALd"
   },
   "source": [
    "## Métodos\n",
    "\n",
    "***Como vimos anteriormente de forme beeem rápida, alguns elementos (objetos) possuem métodos associados à sí.***\n",
    "\n",
    "***De forma resumida, métodos são funções que estão presentes dentro de uma classe***\n",
    "<img src=\"images/what.gif\">"
   ]
  },
  {
   "cell_type": "code",
   "execution_count": 0,
   "metadata": {
    "colab": {},
    "colab_type": "code",
    "id": "4n7ayRXaPALe"
   },
   "outputs": [],
   "source": [
    "st = \"O Lamar quer que façamos overwatch\""
   ]
  },
  {
   "cell_type": "code",
   "execution_count": 0,
   "metadata": {
    "colab": {},
    "colab_type": "code",
    "id": "XJmbgQtMPALf",
    "outputId": "de51b1d7-8e1b-4f1e-9dc9-9bd434374af7"
   },
   "outputs": [
    {
     "data": {
      "text/plain": [
       "'o lamar quer que façamos overwatch'"
      ]
     },
     "execution_count": 78,
     "metadata": {
      "tags": []
     },
     "output_type": "execute_result"
    }
   ],
   "source": [
    "st.lower() #deixa as strings em minusculo"
   ]
  },
  {
   "cell_type": "code",
   "execution_count": 0,
   "metadata": {
    "colab": {},
    "colab_type": "code",
    "id": "FPtfQutuPALh",
    "outputId": "9daf4a98-afd0-404c-8032-d69fdbbec1e3"
   },
   "outputs": [
    {
     "data": {
      "text/plain": [
       "'O LAMAR QUER QUE FAÇAMOS OVERWATCH'"
      ]
     },
     "execution_count": 79,
     "metadata": {
      "tags": []
     },
     "output_type": "execute_result"
    }
   ],
   "source": [
    "st.upper()"
   ]
  },
  {
   "cell_type": "code",
   "execution_count": 0,
   "metadata": {
    "colab": {},
    "colab_type": "code",
    "id": "MhnRH8bnPALi",
    "outputId": "761bd62f-d54e-40e2-bc24-d8124220945b"
   },
   "outputs": [
    {
     "data": {
      "text/plain": [
       "['O', 'Lamar', 'quer', 'que', 'façamos', 'overwatch']"
      ]
     },
     "execution_count": 80,
     "metadata": {
      "tags": []
     },
     "output_type": "execute_result"
    }
   ],
   "source": [
    "st.split()"
   ]
  },
  {
   "cell_type": "code",
   "execution_count": 0,
   "metadata": {
    "colab": {},
    "colab_type": "code",
    "id": "KtPvWSpePALl"
   },
   "outputs": [],
   "source": [
    "tweet = 'Vai! #Cruzeiro' #utilizado para separar dados a partir da string chamada abaixo"
   ]
  },
  {
   "cell_type": "code",
   "execution_count": 0,
   "metadata": {
    "colab": {},
    "colab_type": "code",
    "id": "2ZFgak8VPALm",
    "outputId": "a457ce0d-db90-40a2-850d-8e9c09f6cae6"
   },
   "outputs": [
    {
     "data": {
      "text/plain": [
       "['Vai! ', 'Cruzeiro']"
      ]
     },
     "execution_count": 83,
     "metadata": {
      "tags": []
     },
     "output_type": "execute_result"
    }
   ],
   "source": [
    "tweet.split('#')"
   ]
  },
  {
   "cell_type": "code",
   "execution_count": 0,
   "metadata": {
    "colab": {},
    "colab_type": "code",
    "id": "LDwrgUvcPALo",
    "outputId": "98035220-cec0-4b98-b4a0-0a065919cb14",
    "scrolled": true
   },
   "outputs": [
    {
     "data": {
      "text/plain": [
       "'Cruzeiro'"
      ]
     },
     "execution_count": 85,
     "metadata": {
      "tags": []
     },
     "output_type": "execute_result"
    }
   ],
   "source": [
    "tweet.split('#')[1]"
   ]
  },
  {
   "cell_type": "code",
   "execution_count": 0,
   "metadata": {
    "colab": {},
    "colab_type": "code",
    "id": "XU2Qw0zWPALp",
    "outputId": "7d342b0c-a77d-4f9e-bbe9-4d94e877f2d8"
   },
   "outputs": [
    {
     "data": {
      "text/plain": [
       "dict_keys(['chave1', 'chave2'])"
      ]
     },
     "execution_count": 87,
     "metadata": {
      "tags": []
     },
     "output_type": "execute_result"
    }
   ],
   "source": [
    "d.keys() #acessar o dicionario e escrever as chaves (renomeações dos elementos)"
   ]
  },
  {
   "cell_type": "code",
   "execution_count": 0,
   "metadata": {
    "colab": {},
    "colab_type": "code",
    "id": "8RL2T1fJPALr",
    "outputId": "2d5dbda6-b091-4abb-8026-d433bcee51f9"
   },
   "outputs": [
    {
     "data": {
      "text/plain": [
       "dict_items([('chave1', 'item1'), ('chave2', 'item2')])"
      ]
     },
     "execution_count": 94,
     "metadata": {
      "tags": []
     },
     "output_type": "execute_result"
    }
   ],
   "source": [
    "d.items()"
   ]
  },
  {
   "cell_type": "code",
   "execution_count": 0,
   "metadata": {
    "colab": {},
    "colab_type": "code",
    "id": "hPqvg8K2PALt"
   },
   "outputs": [],
   "source": [
    "lst = [1,2,3]"
   ]
  },
  {
   "cell_type": "code",
   "execution_count": 0,
   "metadata": {
    "colab": {},
    "colab_type": "code",
    "id": "wMTqVPKdPALv",
    "outputId": "3681d868-a247-4f58-da74-6f746c555869"
   },
   "outputs": [
    {
     "data": {
      "text/plain": [
       "3"
      ]
     },
     "execution_count": 95,
     "metadata": {
      "tags": []
     },
     "output_type": "execute_result"
    }
   ],
   "source": [
    "lst.pop() #retira o ultimo elemento da lista e retorna o elemento que vai ser tirado"
   ]
  },
  {
   "cell_type": "code",
   "execution_count": 0,
   "metadata": {
    "colab": {},
    "colab_type": "code",
    "id": "lqpdsh0lPALw",
    "outputId": "eb6f2da3-eb6c-485f-9412-39aaecc995dd"
   },
   "outputs": [
    {
     "data": {
      "text/plain": [
       "[1, 2]"
      ]
     },
     "execution_count": 96,
     "metadata": {
      "tags": []
     },
     "output_type": "execute_result"
    }
   ],
   "source": [
    "lst"
   ]
  },
  {
   "cell_type": "code",
   "execution_count": 0,
   "metadata": {
    "colab": {},
    "colab_type": "code",
    "id": "7wDL3xzRPALy",
    "outputId": "e07b40b5-9294-45c0-e3fa-841d538a7211"
   },
   "outputs": [
    {
     "data": {
      "text/plain": [
       "False"
      ]
     },
     "execution_count": 98,
     "metadata": {
      "tags": []
     },
     "output_type": "execute_result"
    }
   ],
   "source": [
    "'x' in [1,2,3]"
   ]
  },
  {
   "cell_type": "code",
   "execution_count": 0,
   "metadata": {
    "colab": {},
    "colab_type": "code",
    "id": "OZyrOzXpPAL0",
    "outputId": "7e26c9d9-8df3-45ba-ccb0-9788af78e687",
    "scrolled": true
   },
   "outputs": [
    {
     "data": {
      "text/plain": [
       "True"
      ]
     },
     "execution_count": 99,
     "metadata": {
      "tags": []
     },
     "output_type": "execute_result"
    }
   ],
   "source": [
    "'x' in ['x','y','z']"
   ]
  },
  {
   "cell_type": "markdown",
   "metadata": {
    "colab_type": "text",
    "id": "422uFVPMPAL1"
   },
   "source": [
    "### Ufa, ainda bem que acabou (pelo menos por alguns minutos)\n",
    "\n",
    "\n",
    "Muitas coisa foi apresentada até aqui, e acredito que para a maioria, tudo é muito novo e intimidador. O caminho para se tornar um verdadero Jedi do Python ainda é longo. Respire um pouco, tenha paciência, e principalmente, tire todas suas dúvidas agora.\n",
    "\n",
    "<img src=\"images/yodawhat.gif\">\n"
   ]
  }
 ],
 "metadata": {
  "colab": {
   "name": "Python Básico - FACE.ipynb",
   "provenance": [],
   "toc_visible": true
  },
  "kernelspec": {
   "display_name": "Python 3",
   "language": "python",
   "name": "python3"
  },
  "language_info": {
   "codemirror_mode": {
    "name": "ipython",
    "version": 3
   },
   "file_extension": ".py",
   "mimetype": "text/x-python",
   "name": "python",
   "nbconvert_exporter": "python",
   "pygments_lexer": "ipython3",
   "version": "3.7.1"
  }
 },
 "nbformat": 4,
 "nbformat_minor": 1
}
